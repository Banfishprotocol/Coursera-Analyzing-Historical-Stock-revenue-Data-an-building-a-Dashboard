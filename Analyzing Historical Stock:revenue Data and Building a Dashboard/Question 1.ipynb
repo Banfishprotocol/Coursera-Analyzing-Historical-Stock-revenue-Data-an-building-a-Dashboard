{
 "cells": [
  {
   "cell_type": "code",
   "execution_count": 4,
   "metadata": {
    "collapsed": true
   },
   "outputs": [
    {
     "name": "stdout",
     "output_type": "stream",
     "text": [
      "Requirement already satisfied: yfinance in /opt/anaconda3/lib/python3.9/site-packages (0.1.93)\r\n",
      "Requirement already satisfied: appdirs>=1.4.4 in /opt/anaconda3/lib/python3.9/site-packages (from yfinance) (1.4.4)\r\n",
      "Requirement already satisfied: numpy>=1.16.5 in /opt/anaconda3/lib/python3.9/site-packages (from yfinance) (1.21.5)\r\n",
      "Requirement already satisfied: cryptography>=3.3.2 in /opt/anaconda3/lib/python3.9/site-packages (from yfinance) (3.4.8)\r\n",
      "Requirement already satisfied: pandas>=1.3.0 in /opt/anaconda3/lib/python3.9/site-packages (from yfinance) (1.3.3)\r\n",
      "Requirement already satisfied: requests>=2.26 in /opt/anaconda3/lib/python3.9/site-packages (from yfinance) (2.27.1)\r\n",
      "Requirement already satisfied: multitasking>=0.0.7 in /opt/anaconda3/lib/python3.9/site-packages (from yfinance) (0.0.11)\r\n",
      "Requirement already satisfied: lxml>=4.9.1 in /opt/anaconda3/lib/python3.9/site-packages (from yfinance) (4.9.2)\r\n",
      "Requirement already satisfied: cffi>=1.12 in /opt/anaconda3/lib/python3.9/site-packages (from cryptography>=3.3.2->yfinance) (1.15.0)\r\n",
      "Requirement already satisfied: pycparser in /opt/anaconda3/lib/python3.9/site-packages (from cffi>=1.12->cryptography>=3.3.2->yfinance) (2.21)\r\n",
      "Requirement already satisfied: python-dateutil>=2.7.3 in /opt/anaconda3/lib/python3.9/site-packages (from pandas>=1.3.0->yfinance) (2.8.2)\r\n",
      "Requirement already satisfied: pytz>=2017.3 in /opt/anaconda3/lib/python3.9/site-packages (from pandas>=1.3.0->yfinance) (2021.3)\r\n",
      "Requirement already satisfied: six>=1.5 in /opt/anaconda3/lib/python3.9/site-packages (from python-dateutil>=2.7.3->pandas>=1.3.0->yfinance) (1.16.0)\r\n",
      "Requirement already satisfied: charset-normalizer~=2.0.0 in /opt/anaconda3/lib/python3.9/site-packages (from requests>=2.26->yfinance) (2.0.4)\r\n",
      "Requirement already satisfied: urllib3<1.27,>=1.21.1 in /opt/anaconda3/lib/python3.9/site-packages (from requests>=2.26->yfinance) (1.26.9)\r\n",
      "Requirement already satisfied: certifi>=2017.4.17 in /opt/anaconda3/lib/python3.9/site-packages (from requests>=2.26->yfinance) (2021.10.8)\r\n",
      "Requirement already satisfied: idna<4,>=2.5 in /opt/anaconda3/lib/python3.9/site-packages (from requests>=2.26->yfinance) (3.3)\r\n",
      "Requirement already satisfied: pandas in /opt/anaconda3/lib/python3.9/site-packages (1.3.3)\r\n",
      "Requirement already satisfied: python-dateutil>=2.7.3 in /opt/anaconda3/lib/python3.9/site-packages (from pandas) (2.8.2)\r\n",
      "Requirement already satisfied: numpy>=1.17.3 in /opt/anaconda3/lib/python3.9/site-packages (from pandas) (1.21.5)\r\n",
      "Requirement already satisfied: pytz>=2017.3 in /opt/anaconda3/lib/python3.9/site-packages (from pandas) (2021.3)\r\n",
      "Requirement already satisfied: six>=1.5 in /opt/anaconda3/lib/python3.9/site-packages (from python-dateutil>=2.7.3->pandas) (1.16.0)\r\n",
      "Requirement already satisfied: requests in /opt/anaconda3/lib/python3.9/site-packages (2.27.1)\r\n",
      "Requirement already satisfied: idna<4,>=2.5 in /opt/anaconda3/lib/python3.9/site-packages (from requests) (3.3)\r\n",
      "Requirement already satisfied: certifi>=2017.4.17 in /opt/anaconda3/lib/python3.9/site-packages (from requests) (2021.10.8)\r\n",
      "Requirement already satisfied: charset-normalizer~=2.0.0 in /opt/anaconda3/lib/python3.9/site-packages (from requests) (2.0.4)\r\n",
      "Requirement already satisfied: urllib3<1.27,>=1.21.1 in /opt/anaconda3/lib/python3.9/site-packages (from requests) (1.26.9)\r\n",
      "Requirement already satisfied: bs4 in /opt/anaconda3/lib/python3.9/site-packages (0.0.1)\r\n",
      "Requirement already satisfied: beautifulsoup4 in /opt/anaconda3/lib/python3.9/site-packages (from bs4) (4.11.1)\r\n",
      "Requirement already satisfied: soupsieve>1.2 in /opt/anaconda3/lib/python3.9/site-packages (from beautifulsoup4->bs4) (2.3.1)\r\n",
      "Requirement already satisfied: plotly in /opt/anaconda3/lib/python3.9/site-packages (5.6.0)\r\n",
      "Requirement already satisfied: six in /opt/anaconda3/lib/python3.9/site-packages (from plotly) (1.16.0)\r\n",
      "Requirement already satisfied: tenacity>=6.2.0 in /opt/anaconda3/lib/python3.9/site-packages (from plotly) (8.0.1)\r\n",
      "Requirement already satisfied: html.parser in /opt/anaconda3/lib/python3.9/site-packages (0.2)\r\n",
      "Requirement already satisfied: ply in /opt/anaconda3/lib/python3.9/site-packages (from html.parser) (3.11)\r\n"
     ]
    }
   ],
   "source": [
    "!pip install yfinance\n",
    "!pip install pandas\n",
    "!pip install requests\n",
    "!pip install bs4\n",
    "!pip install plotly\n",
    "!pip install html.parser"
   ]
  },
  {
   "cell_type": "code",
   "execution_count": 5,
   "outputs": [],
   "source": [
    "import yfinance as yf"
   ],
   "metadata": {
    "collapsed": false
   }
  },
  {
   "cell_type": "code",
   "execution_count": 6,
   "outputs": [
    {
     "data": {
      "text/plain": "                       Date      Open      High       Low     Close  \\\n0 2010-06-29 00:00:00-04:00  1.266667  1.666667  1.169333  1.592667   \n1 2010-06-30 00:00:00-04:00  1.719333  2.028000  1.553333  1.588667   \n2 2010-07-01 00:00:00-04:00  1.666667  1.728000  1.351333  1.464000   \n3 2010-07-02 00:00:00-04:00  1.533333  1.540000  1.247333  1.280000   \n4 2010-07-06 00:00:00-04:00  1.333333  1.333333  1.055333  1.074000   \n\n      Volume  Dividends  Stock Splits  \n0  281494500          0           0.0  \n1  257806500          0           0.0  \n2  123282000          0           0.0  \n3   77097000          0           0.0  \n4  103003500          0           0.0  ",
      "text/html": "<div>\n<style scoped>\n    .dataframe tbody tr th:only-of-type {\n        vertical-align: middle;\n    }\n\n    .dataframe tbody tr th {\n        vertical-align: top;\n    }\n\n    .dataframe thead th {\n        text-align: right;\n    }\n</style>\n<table border=\"1\" class=\"dataframe\">\n  <thead>\n    <tr style=\"text-align: right;\">\n      <th></th>\n      <th>Date</th>\n      <th>Open</th>\n      <th>High</th>\n      <th>Low</th>\n      <th>Close</th>\n      <th>Volume</th>\n      <th>Dividends</th>\n      <th>Stock Splits</th>\n    </tr>\n  </thead>\n  <tbody>\n    <tr>\n      <th>0</th>\n      <td>2010-06-29 00:00:00-04:00</td>\n      <td>1.266667</td>\n      <td>1.666667</td>\n      <td>1.169333</td>\n      <td>1.592667</td>\n      <td>281494500</td>\n      <td>0</td>\n      <td>0.0</td>\n    </tr>\n    <tr>\n      <th>1</th>\n      <td>2010-06-30 00:00:00-04:00</td>\n      <td>1.719333</td>\n      <td>2.028000</td>\n      <td>1.553333</td>\n      <td>1.588667</td>\n      <td>257806500</td>\n      <td>0</td>\n      <td>0.0</td>\n    </tr>\n    <tr>\n      <th>2</th>\n      <td>2010-07-01 00:00:00-04:00</td>\n      <td>1.666667</td>\n      <td>1.728000</td>\n      <td>1.351333</td>\n      <td>1.464000</td>\n      <td>123282000</td>\n      <td>0</td>\n      <td>0.0</td>\n    </tr>\n    <tr>\n      <th>3</th>\n      <td>2010-07-02 00:00:00-04:00</td>\n      <td>1.533333</td>\n      <td>1.540000</td>\n      <td>1.247333</td>\n      <td>1.280000</td>\n      <td>77097000</td>\n      <td>0</td>\n      <td>0.0</td>\n    </tr>\n    <tr>\n      <th>4</th>\n      <td>2010-07-06 00:00:00-04:00</td>\n      <td>1.333333</td>\n      <td>1.333333</td>\n      <td>1.055333</td>\n      <td>1.074000</td>\n      <td>103003500</td>\n      <td>0</td>\n      <td>0.0</td>\n    </tr>\n  </tbody>\n</table>\n</div>"
     },
     "execution_count": 6,
     "metadata": {},
     "output_type": "execute_result"
    }
   ],
   "source": [
    "tesla = yf.Ticker('TSLA')\n",
    "tesla_data = tesla.history(period=\"max\")\n",
    "tesla_data.reset_index(inplace=True)\n",
    "tesla_data.head()"
   ],
   "metadata": {
    "collapsed": false
   }
  }
 ],
 "metadata": {
  "kernelspec": {
   "display_name": "Python 3",
   "language": "python",
   "name": "python3"
  },
  "language_info": {
   "codemirror_mode": {
    "name": "ipython",
    "version": 2
   },
   "file_extension": ".py",
   "mimetype": "text/x-python",
   "name": "python",
   "nbconvert_exporter": "python",
   "pygments_lexer": "ipython2",
   "version": "2.7.6"
  }
 },
 "nbformat": 4,
 "nbformat_minor": 0
}
